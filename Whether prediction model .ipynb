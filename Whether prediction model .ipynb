{
 "cells": [
  {
   "cell_type": "code",
   "execution_count": 1,
   "id": "8b9061ca",
   "metadata": {},
   "outputs": [],
   "source": [
    "import joblib\n",
    "import numpy as np\n"
   ]
  },
  {
   "cell_type": "code",
   "execution_count": 6,
   "id": "79e44606",
   "metadata": {},
   "outputs": [],
   "source": [
    "bag_clf  = joblib.load('model_joblib')"
   ]
  },
  {
   "cell_type": "code",
   "execution_count": 3,
   "id": "bb2fd892",
   "metadata": {},
   "outputs": [
    {
     "name": "stdout",
     "output_type": "stream",
     "text": [
      "Enter MinTemp: 20\n",
      "Enter MaxTemp: 25\n",
      "Enter Rainfall: 0\n",
      "Enter Evaporation: 3.4\n",
      "Enter Sunshine: 9.4\n",
      "Enter Humidity9am: 73\n",
      "Enter Humidity3pm: 32\n",
      "Enter Pressure9am: 1018\n",
      "Enter Pressure3pm: 1025\n",
      "Enter Cloud9am: 8\n",
      "Enter Cloud3pm: 8\n",
      "Enter Temp9am: 20.7\n",
      "Enter Temp3pm: 20.9\n",
      "Enter RainToday (0 for No, 1 for Yes): 1\n",
      "Enter Year: 2019\n",
      "Enter Month: 1\n",
      "Enter Day: 1\n"
     ]
    }
   ],
   "source": [
    "\n",
    "user_input = {\n",
    "    'MinTemp': float(input(\"Enter MinTemp: \")),\n",
    "    'MaxTemp': float(input(\"Enter MaxTemp: \")),\n",
    "    'Rainfall': float(input(\"Enter Rainfall: \")),\n",
    "    'Evaporation': float(input(\"Enter Evaporation: \")),\n",
    "    'Sunshine': float(input(\"Enter Sunshine: \")),\n",
    "    'Humidity9am': float(input(\"Enter Humidity9am: \")),\n",
    "    'Humidity3pm': float(input(\"Enter Humidity3pm: \")),\n",
    "    'Pressure9am': float(input(\"Enter Pressure9am: \")),\n",
    "    'Pressure3pm': float(input(\"Enter Pressure3pm: \")),\n",
    "    'Cloud9am': float(input(\"Enter Cloud9am: \")),\n",
    "    'Cloud3pm': float(input(\"Enter Cloud3pm: \")),\n",
    "    'Temp9am': float(input(\"Enter Temp9am: \")),\n",
    "    'Temp3pm': float(input(\"Enter Temp3pm: \")),\n",
    "    'RainToday_Yes': int(input(\"Enter RainToday (0 for No, 1 for Yes): \")),\n",
    "\n",
    "    'Year': int(input(\"Enter Year: \")),\n",
    "    'Month': int(input(\"Enter Month: \")),\n",
    "    'Day': int(input(\"Enter Day: \"))\n",
    "}\n",
    "\n"
   ]
  },
  {
   "cell_type": "code",
   "execution_count": 13,
   "id": "19068078",
   "metadata": {},
   "outputs": [
    {
     "name": "stderr",
     "output_type": "stream",
     "text": [
      "C:\\Users\\rushi\\anaconda3\\lib\\site-packages\\sklearn\\base.py:450: UserWarning: X does not have valid feature names, but BaggingClassifier was fitted with feature names\n",
      "  warnings.warn(\n"
     ]
    }
   ],
   "source": [
    "\n",
    "input_array = np.array(list(user_input.values())).reshape(1, -1)\n",
    "\n",
    "# Make predictions using the loaded (or fitted) model\n",
    "predictions = bag_clf.predict(input_array)\n",
    "\n"
   ]
  },
  {
   "cell_type": "code",
   "execution_count": 14,
   "id": "930c5e7e",
   "metadata": {},
   "outputs": [
    {
     "name": "stdout",
     "output_type": "stream",
     "text": [
      "[0]\n"
     ]
    }
   ],
   "source": [
    "# Print the predictions\n",
    "print(predictions)\n"
   ]
  },
  {
   "cell_type": "markdown",
   "id": "5c1fb783",
   "metadata": {},
   "source": [
    "0 for \"NoRain\" And 1 for \"Rain\""
   ]
  }
 ],
 "metadata": {
  "kernelspec": {
   "display_name": "Python 3 (ipykernel)",
   "language": "python",
   "name": "python3"
  },
  "language_info": {
   "codemirror_mode": {
    "name": "ipython",
    "version": 3
   },
   "file_extension": ".py",
   "mimetype": "text/x-python",
   "name": "python",
   "nbconvert_exporter": "python",
   "pygments_lexer": "ipython3",
   "version": "3.9.13"
  }
 },
 "nbformat": 4,
 "nbformat_minor": 5
}
